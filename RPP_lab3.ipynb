{
  "nbformat": 4,
  "nbformat_minor": 0,
  "metadata": {
    "colab": {
      "provenance": [],
      "authorship_tag": "ABX9TyOdelu1bOJz0z4v8wmBbVdm",
      "include_colab_link": true
    },
    "kernelspec": {
      "name": "python3",
      "display_name": "Python 3"
    },
    "language_info": {
      "name": "python"
    }
  },
  "cells": [
    {
      "cell_type": "markdown",
      "metadata": {
        "id": "view-in-github",
        "colab_type": "text"
      },
      "source": [
        "<a href=\"https://colab.research.google.com/github/sashaborodaneva/RPP_Lab3/blob/main/RPP_lab3.ipynb\" target=\"_parent\"><img src=\"https://colab.research.google.com/assets/colab-badge.svg\" alt=\"Open In Colab\"/></a>"
      ]
    },
    {
      "cell_type": "code",
      "execution_count": 42,
      "metadata": {
        "id": "t456ruPCL4aS"
      },
      "outputs": [],
      "source": [
        "import http.client\n",
        "import json"
      ]
    },
    {
      "cell_type": "code",
      "source": [
        "connection = http.client.HTTPConnection(\"167.172.172.227:8000\")\n",
        "connection.request(\"GET\",\"/number/4\")\n",
        "#getresponse() - Возвращает ответ от интернет-ресурса\n",
        "body = connection.getresponse()\n",
        "#читаем ответ, декодируем из URL в строку\n",
        "z = body.read().decode()\n",
        "#преобразуем из JSON\n",
        "z_1 = json.loads(z)\n",
        "z_1 = z_1[\"number\"]\n",
        "print(\"Ответ: \", z, z_1)\n",
        "connection.close\n"
      ],
      "metadata": {
        "colab": {
          "base_uri": "https://localhost:8080/"
        },
        "id": "mj3VU14P2GWo",
        "outputId": "ac943f0c-4f0b-4047-c846-d6f3502c77b1"
      },
      "execution_count": 43,
      "outputs": [
        {
          "output_type": "stream",
          "name": "stdout",
          "text": [
            "Ответ:  {\"number\":71} 71\n"
          ]
        },
        {
          "output_type": "execute_result",
          "data": {
            "text/plain": [
              "<bound method HTTPConnection.close of <http.client.HTTPConnection object at 0x7f7bc6567280>>"
            ]
          },
          "metadata": {},
          "execution_count": 43
        }
      ]
    },
    {
      "cell_type": "code",
      "source": [
        "connection.request(\"GET\",\"/number/?option=4\")\n",
        "body = connection.getresponse()\n",
        "z = body.read().decode()\n",
        "z_2 = json.loads(z)\n",
        "z_2 = z_2[\"number\"]\n",
        "print(\"Ответ 2: \", z, z_2, round(z_1+z_2))\n",
        "connection.close\n"
      ],
      "metadata": {
        "colab": {
          "base_uri": "https://localhost:8080/"
        },
        "id": "gLGLE7PS2RyU",
        "outputId": "deeb85a3-49c1-4eae-cd35-d336a1fb6458"
      },
      "execution_count": 55,
      "outputs": [
        {
          "output_type": "stream",
          "name": "stdout",
          "text": [
            "Ответ 2:  {\"operation\":\"sub\",\"number\":10} 10 81\n"
          ]
        },
        {
          "output_type": "execute_result",
          "data": {
            "text/plain": [
              "<bound method HTTPConnection.close of <http.client.HTTPConnection object at 0x7f7bc6567280>>"
            ]
          },
          "metadata": {},
          "execution_count": 55
        }
      ]
    },
    {
      "cell_type": "code",
      "source": [
        "head = {'Content-Type': 'application/x-www-form-urlencoded'}\n",
        "connection.request(\"POST\",\"/number/\", \"option=4\", headers=head)\n",
        "body = connection.getresponse()\n",
        "z = body.read().decode()\n",
        "z_3 = json.loads(z)\n",
        "z_3 = z_3[\"number\"]\n",
        "print(\"Ответ 3: \", z, z_3, round(z_2/z_3))\n",
        "connection.close\n"
      ],
      "metadata": {
        "colab": {
          "base_uri": "https://localhost:8080/"
        },
        "id": "_ATDR_zO2R1e",
        "outputId": "45e5d712-a68e-4618-bd20-3d4452f7e63d"
      },
      "execution_count": 73,
      "outputs": [
        {
          "output_type": "stream",
          "name": "stdout",
          "text": [
            "Ответ 3:  {\"operation\":\"sum\",\"number\":21} 21 0\n"
          ]
        },
        {
          "output_type": "execute_result",
          "data": {
            "text/plain": [
              "<bound method HTTPConnection.close of <http.client.HTTPConnection object at 0x7f7bc6567280>>"
            ]
          },
          "metadata": {},
          "execution_count": 73
        }
      ]
    },
    {
      "cell_type": "code",
      "source": [
        "head={'Content-Type': 'application/json'}\n",
        "body= {\"option\": 4}\n",
        "connection.request(\"PUT\",\"/number/\", body=json.dumps(body), headers=head)\n",
        "body = connection.getresponse()\n",
        "z = body.read().decode()\n",
        "z_4 = json.loads(z)\n",
        "z_4 = z_4[\"number\"]\n",
        "print(\"Ответ 4: \", z, z_4, round(z_3-z_4))\n",
        "connection.close\n"
      ],
      "metadata": {
        "colab": {
          "base_uri": "https://localhost:8080/"
        },
        "id": "EhwkuOAC2R4t",
        "outputId": "c473d2fc-4966-4360-da26-1523521988fc"
      },
      "execution_count": 57,
      "outputs": [
        {
          "output_type": "stream",
          "name": "stdout",
          "text": [
            "Ответ 4:  {\"operation\":\"mul\",\"number\":45} 45 -24\n"
          ]
        },
        {
          "output_type": "execute_result",
          "data": {
            "text/plain": [
              "<bound method HTTPConnection.close of <http.client.HTTPConnection object at 0x7f7bc6567280>>"
            ]
          },
          "metadata": {},
          "execution_count": 57
        }
      ]
    },
    {
      "cell_type": "code",
      "source": [
        "body= {\"option\": 4}\n",
        "connection.request(\"DELETE\",\"/number/\", body=json.dumps(body))\n",
        "body = connection.getresponse()\n",
        "z = body.read().decode()\n",
        "z_5 = json.loads(z)\n",
        "z_5 = z_5[\"number\"]\n",
        "print(\"Ответ 5: \", z, z_5, round(z_4*z_5))\n",
        "connection.close\n"
      ],
      "metadata": {
        "colab": {
          "base_uri": "https://localhost:8080/"
        },
        "id": "zQywB-UG2SB1",
        "outputId": "013d7a59-2c27-469f-84ca-5b93842481f5"
      },
      "execution_count": 59,
      "outputs": [
        {
          "output_type": "stream",
          "name": "stdout",
          "text": [
            "Ответ 5:  {\"operation\":\"div\",\"number\":32} 32 1440\n"
          ]
        },
        {
          "output_type": "execute_result",
          "data": {
            "text/plain": [
              "<bound method HTTPConnection.close of <http.client.HTTPConnection object at 0x7f7bc6567280>>"
            ]
          },
          "metadata": {},
          "execution_count": 59
        }
      ]
    }
  ]
}